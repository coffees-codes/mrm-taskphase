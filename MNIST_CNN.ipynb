{
  "nbformat": 4,
  "nbformat_minor": 0,
  "metadata": {
    "colab": {
      "name": "MNIST_CNN.ipynb",
      "provenance": [],
      "authorship_tag": "ABX9TyP126clGSl6RMeMCC/dJUo7",
      "include_colab_link": true
    },
    "kernelspec": {
      "name": "python3",
      "display_name": "Python 3"
    },
    "language_info": {
      "name": "python"
    }
  },
  "cells": [
    {
      "cell_type": "markdown",
      "metadata": {
        "id": "view-in-github",
        "colab_type": "text"
      },
      "source": [
        "<a href=\"https://colab.research.google.com/github/coffees-codes/mrm-taskphase/blob/main/MNIST_CNN.ipynb\" target=\"_parent\"><img src=\"https://colab.research.google.com/assets/colab-badge.svg\" alt=\"Open In Colab\"/></a>"
      ]
    },
    {
      "cell_type": "code",
      "execution_count": 1,
      "metadata": {
        "colab": {
          "base_uri": "https://localhost:8080/"
        },
        "id": "HpTFYOYXNW1C",
        "outputId": "628b071a-c7e0-46e4-8cd3-22340b7af78a"
      },
      "outputs": [
        {
          "output_type": "execute_result",
          "data": {
            "text/plain": [
              "device(type='cpu')"
            ]
          },
          "metadata": {},
          "execution_count": 1
        }
      ],
      "source": [
        "import torch\n",
        "# Device configuration\n",
        "device = torch.device('cuda' if torch.cuda.is_available() else 'cpu')\n",
        "device"
      ]
    },
    {
      "cell_type": "code",
      "source": [
        "from torchvision import datasets\n",
        "from torchvision.transforms import ToTensor\n",
        "train_data = datasets.MNIST(\n",
        "    root = 'data',\n",
        "    train = True,                         \n",
        "    transform = ToTensor(), \n",
        "    download = True,            \n",
        ")\n",
        "test_data = datasets.MNIST(\n",
        "    root = 'data', \n",
        "    train = False, \n",
        "    transform = ToTensor()\n",
        ")\n",
        "\n",
        "print(train_data)"
      ],
      "metadata": {
        "colab": {
          "base_uri": "https://localhost:8080/"
        },
        "id": "aeWH-SWUNiMB",
        "outputId": "973ef2ab-482a-4c18-9821-65d33cdf0a4c"
      },
      "execution_count": 3,
      "outputs": [
        {
          "output_type": "stream",
          "name": "stdout",
          "text": [
            "Dataset MNIST\n",
            "    Number of datapoints: 60000\n",
            "    Root location: data\n",
            "    Split: Train\n",
            "    StandardTransform\n",
            "Transform: ToTensor()\n"
          ]
        }
      ]
    },
    {
      "cell_type": "code",
      "source": [
        "print(train_data.data.size())\n",
        "print(train_data.targets.size())"
      ],
      "metadata": {
        "colab": {
          "base_uri": "https://localhost:8080/"
        },
        "id": "ieKCHqUBNqAN",
        "outputId": "ce5e509f-7749-4b50-bb49-591a38037b44"
      },
      "execution_count": 4,
      "outputs": [
        {
          "output_type": "stream",
          "name": "stdout",
          "text": [
            "torch.Size([60000, 28, 28])\n",
            "torch.Size([60000])\n"
          ]
        }
      ]
    },
    {
      "cell_type": "code",
      "source": [
        "from torch.utils.data import DataLoader\n",
        "loaders = {\n",
        "    'train' : torch.utils.data.DataLoader(train_data, \n",
        "                                          batch_size=100, \n",
        "                                          shuffle=True, \n",
        "                                          num_workers=1),\n",
        "    \n",
        "    'test'  : torch.utils.data.DataLoader(test_data, \n",
        "                                          batch_size=100, \n",
        "                                          shuffle=True, \n",
        "                                          num_workers=1),\n",
        "}"
      ],
      "metadata": {
        "id": "PZYKxMG4PetI"
      },
      "execution_count": 10,
      "outputs": []
    },
    {
      "cell_type": "code",
      "source": [
        "import torch.nn as nn\n",
        "class CNN(nn.Module):\n",
        "    def __init__(self):\n",
        "        super(CNN, self).__init__()\n",
        "        self.conv1 = nn.Sequential(         \n",
        "            nn.Conv2d(\n",
        "                in_channels=1,              \n",
        "                out_channels=16,            \n",
        "                kernel_size=5,              \n",
        "                stride=1,                   \n",
        "                padding=2,                  \n",
        "            ),                              \n",
        "            nn.ReLU(),                      \n",
        "            nn.MaxPool2d(kernel_size=2),    \n",
        "        )\n",
        "        self.conv2 = nn.Sequential(         \n",
        "            nn.Conv2d(16, 32, 5, 1, 2),     \n",
        "            nn.ReLU(),                      \n",
        "            nn.MaxPool2d(2),                \n",
        "        )\n",
        "        # fully connected layer, output 10 classes\n",
        "        self.out = nn.Linear(32 * 7 * 7, 10)\n",
        "    def forward(self, x):\n",
        "        x = self.conv1(x)\n",
        "        x = self.conv2(x)\n",
        "        # flatten the output of conv2 to (batch_size, 32 * 7 * 7)\n",
        "        x = x.view(x.size(0), -1)       \n",
        "        output = self.out(x)\n",
        "        return output, x    # return x for visualization"
      ],
      "metadata": {
        "id": "NNqLOPLOOO0g"
      },
      "execution_count": 6,
      "outputs": []
    },
    {
      "cell_type": "code",
      "source": [
        "cnn = CNN()\n",
        "print(cnn)"
      ],
      "metadata": {
        "colab": {
          "base_uri": "https://localhost:8080/"
        },
        "id": "7RXbvgfaOq_5",
        "outputId": "5c573e8b-fb19-421d-d360-a91bab7b2b46"
      },
      "execution_count": 7,
      "outputs": [
        {
          "output_type": "stream",
          "name": "stdout",
          "text": [
            "CNN(\n",
            "  (conv1): Sequential(\n",
            "    (0): Conv2d(1, 16, kernel_size=(5, 5), stride=(1, 1), padding=(2, 2))\n",
            "    (1): ReLU()\n",
            "    (2): MaxPool2d(kernel_size=2, stride=2, padding=0, dilation=1, ceil_mode=False)\n",
            "  )\n",
            "  (conv2): Sequential(\n",
            "    (0): Conv2d(16, 32, kernel_size=(5, 5), stride=(1, 1), padding=(2, 2))\n",
            "    (1): ReLU()\n",
            "    (2): MaxPool2d(kernel_size=2, stride=2, padding=0, dilation=1, ceil_mode=False)\n",
            "  )\n",
            "  (out): Linear(in_features=1568, out_features=10, bias=True)\n",
            ")\n"
          ]
        }
      ]
    },
    {
      "cell_type": "code",
      "source": [
        "#loss function\n",
        "loss_func = nn.CrossEntropyLoss()   \n",
        "\n",
        "#optimizer\n",
        "from torch import optim\n",
        "optimizer = optim.Adam(cnn.parameters(), lr = 0.01)  "
      ],
      "metadata": {
        "id": "In11kcmtPAc2"
      },
      "execution_count": 9,
      "outputs": []
    },
    {
      "cell_type": "code",
      "source": [
        "from torch.autograd import Variable\n",
        "num_epochs = 10\n",
        "def train(num_epochs, cnn, loaders):\n",
        "    \n",
        "    cnn.train()\n",
        "        \n",
        "    # Train the model\n",
        "    total_step = len(loaders['train'])\n",
        "        \n",
        "    for epoch in range(num_epochs):\n",
        "        for i, (images, labels) in enumerate(loaders['train']):\n",
        "            \n",
        "            # gives batch data, normalize x when iterate train_loader\n",
        "            b_x = Variable(images)   # batch x\n",
        "            b_y = Variable(labels)   # batch y\n",
        "\n",
        "            output = cnn(b_x)[0]               \n",
        "            loss = loss_func(output, b_y)\n",
        "            \n",
        "            # clear gradients for this training step   \n",
        "            optimizer.zero_grad()           \n",
        "            \n",
        "            # backpropagation, compute gradients \n",
        "            loss.backward()    \n",
        "            # apply gradients             \n",
        "            optimizer.step()                \n",
        "            \n",
        "            if (i+1) % 100 == 0:\n",
        "                print ('Epoch [{}/{}], Step [{}/{}], Loss: {:.4f}' \n",
        "                       .format(epoch + 1, num_epochs, i + 1, total_step, loss.item()))\n",
        "            pass\n",
        "        pass\n",
        "    pass\n",
        "    \n",
        "train(num_epochs, cnn, loaders)"
      ],
      "metadata": {
        "colab": {
          "base_uri": "https://localhost:8080/"
        },
        "id": "7jjIcm4PPkR-",
        "outputId": "ed895c44-8953-438f-a179-b8eabe127ce8"
      },
      "execution_count": 11,
      "outputs": [
        {
          "output_type": "stream",
          "name": "stdout",
          "text": [
            "Epoch [1/10], Step [100/600], Loss: 0.1137\n",
            "Epoch [1/10], Step [200/600], Loss: 0.1189\n",
            "Epoch [1/10], Step [300/600], Loss: 0.1310\n",
            "Epoch [1/10], Step [400/600], Loss: 0.0656\n",
            "Epoch [1/10], Step [500/600], Loss: 0.0636\n",
            "Epoch [1/10], Step [600/600], Loss: 0.0244\n",
            "Epoch [2/10], Step [100/600], Loss: 0.0361\n",
            "Epoch [2/10], Step [200/600], Loss: 0.0653\n",
            "Epoch [2/10], Step [300/600], Loss: 0.0323\n",
            "Epoch [2/10], Step [400/600], Loss: 0.0714\n",
            "Epoch [2/10], Step [500/600], Loss: 0.0300\n",
            "Epoch [2/10], Step [600/600], Loss: 0.0927\n",
            "Epoch [3/10], Step [100/600], Loss: 0.1272\n",
            "Epoch [3/10], Step [200/600], Loss: 0.0553\n",
            "Epoch [3/10], Step [300/600], Loss: 0.0390\n",
            "Epoch [3/10], Step [400/600], Loss: 0.0567\n",
            "Epoch [3/10], Step [500/600], Loss: 0.0436\n",
            "Epoch [3/10], Step [600/600], Loss: 0.0351\n",
            "Epoch [4/10], Step [100/600], Loss: 0.0088\n",
            "Epoch [4/10], Step [200/600], Loss: 0.0784\n",
            "Epoch [4/10], Step [300/600], Loss: 0.1896\n",
            "Epoch [4/10], Step [400/600], Loss: 0.2172\n",
            "Epoch [4/10], Step [500/600], Loss: 0.0234\n",
            "Epoch [4/10], Step [600/600], Loss: 0.0228\n",
            "Epoch [5/10], Step [100/600], Loss: 0.0304\n",
            "Epoch [5/10], Step [200/600], Loss: 0.0383\n",
            "Epoch [5/10], Step [300/600], Loss: 0.0276\n",
            "Epoch [5/10], Step [400/600], Loss: 0.0243\n",
            "Epoch [5/10], Step [500/600], Loss: 0.0617\n",
            "Epoch [5/10], Step [600/600], Loss: 0.1078\n",
            "Epoch [6/10], Step [100/600], Loss: 0.0535\n",
            "Epoch [6/10], Step [200/600], Loss: 0.0807\n",
            "Epoch [6/10], Step [300/600], Loss: 0.0607\n",
            "Epoch [6/10], Step [400/600], Loss: 0.0884\n",
            "Epoch [6/10], Step [500/600], Loss: 0.0868\n",
            "Epoch [6/10], Step [600/600], Loss: 0.0282\n",
            "Epoch [7/10], Step [100/600], Loss: 0.0437\n",
            "Epoch [7/10], Step [200/600], Loss: 0.1402\n",
            "Epoch [7/10], Step [300/600], Loss: 0.0032\n",
            "Epoch [7/10], Step [400/600], Loss: 0.0302\n",
            "Epoch [7/10], Step [500/600], Loss: 0.0375\n",
            "Epoch [7/10], Step [600/600], Loss: 0.0158\n",
            "Epoch [8/10], Step [100/600], Loss: 0.0134\n",
            "Epoch [8/10], Step [200/600], Loss: 0.0579\n",
            "Epoch [8/10], Step [300/600], Loss: 0.1084\n",
            "Epoch [8/10], Step [400/600], Loss: 0.0627\n",
            "Epoch [8/10], Step [500/600], Loss: 0.0508\n",
            "Epoch [8/10], Step [600/600], Loss: 0.0516\n",
            "Epoch [9/10], Step [100/600], Loss: 0.1111\n",
            "Epoch [9/10], Step [200/600], Loss: 0.0098\n",
            "Epoch [9/10], Step [300/600], Loss: 0.0314\n",
            "Epoch [9/10], Step [400/600], Loss: 0.0066\n",
            "Epoch [9/10], Step [500/600], Loss: 0.0528\n",
            "Epoch [9/10], Step [600/600], Loss: 0.0082\n",
            "Epoch [10/10], Step [100/600], Loss: 0.0171\n",
            "Epoch [10/10], Step [200/600], Loss: 0.0821\n",
            "Epoch [10/10], Step [300/600], Loss: 0.0018\n",
            "Epoch [10/10], Step [400/600], Loss: 0.0298\n",
            "Epoch [10/10], Step [500/600], Loss: 0.0441\n",
            "Epoch [10/10], Step [600/600], Loss: 0.0358\n"
          ]
        }
      ]
    },
    {
      "cell_type": "code",
      "source": [
        "def test():\n",
        "    # Test the model\n",
        "    cnn.eval()\n",
        "    with torch.no_grad():\n",
        "        correct = 0\n",
        "        total = 0\n",
        "        for images, labels in loaders['test']:\n",
        "            test_output, last_layer = cnn(images)\n",
        "            pred_y = torch.max(test_output, 1)[1].data.squeeze()\n",
        "            accuracy = (pred_y == labels).sum().item() / float(labels.size(0))\n",
        "            pass\n",
        "        print('Test Accuracy of the model on the 10000 test images: %.2f' % accuracy)\n",
        "        pass\n",
        "        \n",
        "test()"
      ],
      "metadata": {
        "colab": {
          "base_uri": "https://localhost:8080/"
        },
        "id": "y1mA_kqtSGUC",
        "outputId": "abfbe7cb-47a4-4af0-ea92-851dbf984e7c"
      },
      "execution_count": 13,
      "outputs": [
        {
          "output_type": "stream",
          "name": "stdout",
          "text": [
            "Test Accuracy of the model on the 10000 test images: 0.99\n"
          ]
        }
      ]
    }
  ]
}